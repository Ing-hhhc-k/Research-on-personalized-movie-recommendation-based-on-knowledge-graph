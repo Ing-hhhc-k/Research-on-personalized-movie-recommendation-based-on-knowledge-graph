{
 "cells": [
  {
   "cell_type": "code",
   "execution_count": 4,
   "metadata": {},
   "outputs": [
    {
     "name": "stderr",
     "output_type": "stream",
     "text": [
      "d:\\Anaconda_other\\lib\\site-packages\\pandas\\core\\computation\\expressions.py:21: UserWarning: Pandas requires version '2.8.4' or newer of 'numexpr' (version '2.8.3' currently installed).\n",
      "  from pandas.core.computation.check import NUMEXPR_INSTALLED\n",
      "d:\\Anaconda_other\\lib\\site-packages\\pandas\\core\\arrays\\masked.py:60: UserWarning: Pandas requires version '1.3.6' or newer of 'bottleneck' (version '1.3.5' currently installed).\n",
      "  from pandas.core import (\n"
     ]
    }
   ],
   "source": [
    "%matplotlib inline\n",
    "import numpy as np\n",
    "# import matplotlib.font_managermn as fm\n",
    "import matplotlib.pyplot as plt\n",
    "# 配置中文\n",
    "# # 添加字体 \n",
    "# fm.fontMnager.addfont('../SimHei.ttf')\n",
    "# 安装好字体后可以正常设置\n",
    "plt.rcParams['font.sans-serif'] = ['SimHei'] # 中文字体设置-黑体\n",
    "plt.rcParams['axes.unicode_minus'] = False # 解决保存图像是符号'-'显示为方块的问题\n",
    "\n",
    "import pandas as pd"
   ]
  }
 ],
 "metadata": {
  "kernelspec": {
   "display_name": "base",
   "language": "python",
   "name": "python3"
  },
  "language_info": {
   "codemirror_mode": {
    "name": "ipython",
    "version": 3
   },
   "file_extension": ".py",
   "mimetype": "text/x-python",
   "name": "python",
   "nbconvert_exporter": "python",
   "pygments_lexer": "ipython3",
   "version": "3.9.13"
  }
 },
 "nbformat": 4,
 "nbformat_minor": 2
}
