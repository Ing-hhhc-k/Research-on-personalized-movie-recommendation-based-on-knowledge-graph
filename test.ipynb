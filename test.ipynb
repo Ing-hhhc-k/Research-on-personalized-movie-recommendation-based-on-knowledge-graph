{
 "cells": [
  {
   "cell_type": "code",
   "execution_count": 4,
   "metadata": {},
   "outputs": [
    {
     "name": "stdout",
     "output_type": "stream",
     "text": [
      "文件编码为：GB2312\n"
     ]
    }
   ],
   "source": [
    "import pandas as pd\n",
    "import chardet\n",
    "\n",
    "# 检测文件编码\n",
    "with open('../数据集/豆瓣电影数据集/豆瓣电影数据集/comments.csv', 'rb') as f:\n",
    "    data = f.read()\n",
    "    result = chardet.detect(data)\n",
    "\n",
    "encoding = result['encoding']\n",
    "print(f\"文件编码为：{encoding}\")\n",
    "\n",
    "# # 按检测到的编码读取文件\n",
    "# with open('example.txt', 'r', encoding=encoding) as f:\n",
    "#     content = f.read()\n",
    "#     print(content)\n",
    "\n",
    "\n",
    "# df = pd.read_csv(\"../数据集/豆瓣电影数据集/豆瓣电影数据集/comments.csv\")\n",
    "# df"
   ]
  },
  {
   "cell_type": "code",
   "execution_count": 10,
   "metadata": {},
   "outputs": [
    {
     "data": {
      "text/html": [
       "<div>\n",
       "<style scoped>\n",
       "    .dataframe tbody tr th:only-of-type {\n",
       "        vertical-align: middle;\n",
       "    }\n",
       "\n",
       "    .dataframe tbody tr th {\n",
       "        vertical-align: top;\n",
       "    }\n",
       "\n",
       "    .dataframe thead th {\n",
       "        text-align: right;\n",
       "    }\n",
       "</style>\n",
       "<table border=\"1\" class=\"dataframe\">\n",
       "  <thead>\n",
       "    <tr style=\"text-align: right;\">\n",
       "      <th></th>\n",
       "      <th>COMMENT_ID</th>\n",
       "      <th>USER_MD5</th>\n",
       "      <th>MOVIE_ID</th>\n",
       "      <th>CONTENT</th>\n",
       "      <th>VOTES</th>\n",
       "      <th>COMMENT_TIME</th>\n",
       "      <th>RATING</th>\n",
       "    </tr>\n",
       "  </thead>\n",
       "  <tbody>\n",
       "    <tr>\n",
       "      <th>0</th>\n",
       "      <td>1359352573</td>\n",
       "      <td>0ab7e3efacd56983f16503572d2b9915</td>\n",
       "      <td>5113101</td>\n",
       "      <td>480p，画质不高，黑白，y</td>\n",
       "      <td>0</td>\n",
       "      <td>2018/9/5 19:42</td>\n",
       "      <td>2.0</td>\n",
       "    </tr>\n",
       "    <tr>\n",
       "      <th>1</th>\n",
       "      <td>1598245094</td>\n",
       "      <td>84dfd3f91dd85ea105bc74a4f0d7a067</td>\n",
       "      <td>5113101</td>\n",
       "      <td>毫无看点，黑白画质，一个男人孤独的心理情景历程，疯疯癫癫，没有任何恐怖的成分，这应该是剧情片吧.</td>\n",
       "      <td>0</td>\n",
       "      <td>2019/7/9 14:52</td>\n",
       "      <td>1.0</td>\n",
       "    </tr>\n",
       "    <tr>\n",
       "      <th>2</th>\n",
       "      <td>311937819</td>\n",
       "      <td>c9a47fd59b55967ceac07cac6d5f270c</td>\n",
       "      <td>3718526</td>\n",
       "      <td>上吊那�e超好笑，可惜最後�蟾娼��r的旁白大扣分</td>\n",
       "      <td>0</td>\n",
       "      <td>2010/11/5 22:15</td>\n",
       "      <td>3.0</td>\n",
       "    </tr>\n",
       "    <tr>\n",
       "      <th>3</th>\n",
       "      <td>262536568</td>\n",
       "      <td>35d3d5a52a7515c2ca6bb4d8e965149b</td>\n",
       "      <td>3718526</td>\n",
       "      <td>上海国际电影节观摩片</td>\n",
       "      <td>0</td>\n",
       "      <td>2010/6/20 2:12</td>\n",
       "      <td>NaN</td>\n",
       "    </tr>\n",
       "    <tr>\n",
       "      <th>4</th>\n",
       "      <td>376372407</td>\n",
       "      <td>54bfe88b57d8a3caea2637e62d182cf7</td>\n",
       "      <td>3718526</td>\n",
       "      <td>！</td>\n",
       "      <td>0</td>\n",
       "      <td>2011/4/9 22:10</td>\n",
       "      <td>NaN</td>\n",
       "    </tr>\n",
       "    <tr>\n",
       "      <th>...</th>\n",
       "      <td>...</td>\n",
       "      <td>...</td>\n",
       "      <td>...</td>\n",
       "      <td>...</td>\n",
       "      <td>...</td>\n",
       "      <td>...</td>\n",
       "      <td>...</td>\n",
       "    </tr>\n",
       "    <tr>\n",
       "      <th>1048570</th>\n",
       "      <td>1259139369</td>\n",
       "      <td>606cd7c6cf27a968ac60b157a1565547</td>\n",
       "      <td>1778500</td>\n",
       "      <td>最近就喜欢看这种淡如水但是叙事能力极强的电影</td>\n",
       "      <td>0</td>\n",
       "      <td>2017/10/19 19:36</td>\n",
       "      <td>5.0</td>\n",
       "    </tr>\n",
       "    <tr>\n",
       "      <th>1048571</th>\n",
       "      <td>1235082746</td>\n",
       "      <td>93a9326136e9c76c19f696adea483afc</td>\n",
       "      <td>1778500</td>\n",
       "      <td>海龟长寿，海龟能回到出生的地方，这些他都不能，但他遇见了他，一如他设想的关于海龟的美好爱情。</td>\n",
       "      <td>0</td>\n",
       "      <td>2017/8/26 23:30</td>\n",
       "      <td>3.0</td>\n",
       "    </tr>\n",
       "    <tr>\n",
       "      <th>1048572</th>\n",
       "      <td>1230370472</td>\n",
       "      <td>b1bb9c6513269c6b18d548e907149fe2</td>\n",
       "      <td>1778500</td>\n",
       "      <td>电影把切入点选在了修复“创伤”的过程中（导演的习惯性视角），两条故事线相辅相成，传递了尊重个...</td>\n",
       "      <td>0</td>\n",
       "      <td>2017/8/16 15:54</td>\n",
       "      <td>4.0</td>\n",
       "    </tr>\n",
       "    <tr>\n",
       "      <th>1048573</th>\n",
       "      <td>1213231114</td>\n",
       "      <td>723f661ee0e12d606a6bbd691cccd2de</td>\n",
       "      <td>1778500</td>\n",
       "      <td>夏天啊</td>\n",
       "      <td>0</td>\n",
       "      <td>2017/7/10 3:12</td>\n",
       "      <td>5.0</td>\n",
       "    </tr>\n",
       "    <tr>\n",
       "      <th>1048574</th>\n",
       "      <td>1200488817</td>\n",
       "      <td>1788a5675461db31633b65c68c580755</td>\n",
       "      <td>1778500</td>\n",
       "      <td>封面海报是不是有点太华丽了…跟清冷的剧情画面有点兑不上啊……分段交叉叙事让故事简单又不单调。...</td>\n",
       "      <td>0</td>\n",
       "      <td>2017/6/9 21:33</td>\n",
       "      <td>5.0</td>\n",
       "    </tr>\n",
       "  </tbody>\n",
       "</table>\n",
       "<p>1048575 rows × 7 columns</p>\n",
       "</div>"
      ],
      "text/plain": [
       "         COMMENT_ID                          USER_MD5  MOVIE_ID  \\\n",
       "0        1359352573  0ab7e3efacd56983f16503572d2b9915   5113101   \n",
       "1        1598245094  84dfd3f91dd85ea105bc74a4f0d7a067   5113101   \n",
       "2         311937819  c9a47fd59b55967ceac07cac6d5f270c   3718526   \n",
       "3         262536568  35d3d5a52a7515c2ca6bb4d8e965149b   3718526   \n",
       "4         376372407  54bfe88b57d8a3caea2637e62d182cf7   3718526   \n",
       "...             ...                               ...       ...   \n",
       "1048570  1259139369  606cd7c6cf27a968ac60b157a1565547   1778500   \n",
       "1048571  1235082746  93a9326136e9c76c19f696adea483afc   1778500   \n",
       "1048572  1230370472  b1bb9c6513269c6b18d548e907149fe2   1778500   \n",
       "1048573  1213231114  723f661ee0e12d606a6bbd691cccd2de   1778500   \n",
       "1048574  1200488817  1788a5675461db31633b65c68c580755   1778500   \n",
       "\n",
       "                                                   CONTENT  VOTES  \\\n",
       "0                                           480p，画质不高，黑白，y      0   \n",
       "1         毫无看点，黑白画质，一个男人孤独的心理情景历程，疯疯癫癫，没有任何恐怖的成分，这应该是剧情片吧.      0   \n",
       "2                                上吊那�e超好笑，可惜最後�蟾娼��r的旁白大扣分      0   \n",
       "3                                               上海国际电影节观摩片      0   \n",
       "4                                                        ！      0   \n",
       "...                                                    ...    ...   \n",
       "1048570                             最近就喜欢看这种淡如水但是叙事能力极强的电影      0   \n",
       "1048571     海龟长寿，海龟能回到出生的地方，这些他都不能，但他遇见了他，一如他设想的关于海龟的美好爱情。      0   \n",
       "1048572  电影把切入点选在了修复“创伤”的过程中（导演的习惯性视角），两条故事线相辅相成，传递了尊重个...      0   \n",
       "1048573                                                夏天啊      0   \n",
       "1048574  封面海报是不是有点太华丽了…跟清冷的剧情画面有点兑不上啊……分段交叉叙事让故事简单又不单调。...      0   \n",
       "\n",
       "             COMMENT_TIME  RATING  \n",
       "0          2018/9/5 19:42     2.0  \n",
       "1          2019/7/9 14:52     1.0  \n",
       "2         2010/11/5 22:15     3.0  \n",
       "3          2010/6/20 2:12     NaN  \n",
       "4          2011/4/9 22:10     NaN  \n",
       "...                   ...     ...  \n",
       "1048570  2017/10/19 19:36     5.0  \n",
       "1048571   2017/8/26 23:30     3.0  \n",
       "1048572   2017/8/16 15:54     4.0  \n",
       "1048573    2017/7/10 3:12     5.0  \n",
       "1048574    2017/6/9 21:33     5.0  \n",
       "\n",
       "[1048575 rows x 7 columns]"
      ]
     },
     "execution_count": 10,
     "metadata": {},
     "output_type": "execute_result"
    }
   ],
   "source": [
    "# # 按检测到的编码读取文件\n",
    "# with open('../数据集/豆瓣电影数据集/豆瓣电影数据集/comments.csv', 'r', encoding=encoding) as f:\n",
    "#     content = f.read()\n",
    "#     print(content)\n",
    "\n",
    "df = pd.read_csv(\"../数据集/豆瓣电影数据集/豆瓣电影数据集/comments.csv\", encoding='GB2312', encoding_errors='replace')\n",
    "df"
   ]
  },
  {
   "cell_type": "code",
   "execution_count": 21,
   "metadata": {},
   "outputs": [
    {
     "name": "stdout",
     "output_type": "stream",
     "text": [
      "0.8164965809277261\n"
     ]
    }
   ],
   "source": [
    "from sklearn.metrics.pairwise import cosine_similarity\n",
    "import numpy as np\n",
    "vec1 = np.array([1, 0, 0, 0])\n",
    "vec2 = np.array([1, 0.5, 0.5, 0])\n",
    "cos_sim = cosine_similarity(vec1.reshape(1, -1), vec2.reshape(1, -1))\n",
    "print(cos_sim[0][0])"
   ]
  },
  {
   "cell_type": "code",
   "execution_count": null,
   "metadata": {},
   "outputs": [
    {
     "data": {
      "text/plain": [
       "PearsonRResult(statistic=0.816496580927726, pvalue=0.18350341907227397)"
      ]
     },
     "execution_count": 19,
     "metadata": {},
     "output_type": "execute_result"
    }
   ],
   "source": [
    "from scipy.stats import pearsonr\n",
    " \n",
    "i = [1, 0, 0, 0]\n",
    "j = [1, 0.5, 0.5, 0]\n",
    "pearsonr(i, j)"
   ]
  },
  {
   "cell_type": "code",
   "execution_count": 12,
   "metadata": {},
   "outputs": [
    {
     "data": {
      "text/plain": [
       "278296"
      ]
     },
     "execution_count": 12,
     "metadata": {},
     "output_type": "execute_result"
    }
   ],
   "source": [
    "df['USER_MD5'].nunique()"
   ]
  },
  {
   "cell_type": "code",
   "execution_count": 7,
   "metadata": {},
   "outputs": [
    {
     "name": "stdout",
     "output_type": "stream",
     "text": [
      "随机生成的坐标是：116.62756963161402,43.48328320995125\n"
     ]
    }
   ],
   "source": [
    "import random\n",
    "\n",
    "def generate_china_coordinates():\n",
    "    # 中国经纬度的范围\n",
    "    lat_min, lat_max = 18.1667, 53.55  # 纬度范围\n",
    "    lon_min, lon_max = 73.55, 135.0833  # 经度范围\n",
    "\n",
    "    # 随机生成纬度和经度\n",
    "    latitude = random.uniform(lat_min, lat_max)\n",
    "    longitude = random.uniform(lon_min, lon_max)\n",
    "\n",
    "    return latitude, longitude\n",
    "\n",
    "# 生成一个随机的中国地理坐标\n",
    "lat, lon = generate_china_coordinates()\n",
    "print(f\"随机生成的坐标是：{lon},{lat}\")\n"
   ]
  },
  {
   "cell_type": "code",
   "execution_count": 28,
   "metadata": {},
   "outputs": [
    {
     "name": "stdout",
     "output_type": "stream",
     "text": [
      "4.275610337263218 3.503681034042833 4.171291183653749 4.1670365038411 4.523561952738814\n"
     ]
    }
   ],
   "source": [
    "import numpy as np\n",
    "data1 = [135, 64, 35, 12, 7, 55, 142, 192, 137, 149, 140, 174, 97, 142, 126, 119, 129, 85, 109, 122, 148, 192]\n",
    "data2 = [12, 9, 12, 6, 27, 469, 596, 566, 485, 325, 505, 404, 349, 309, 139, 15, 27, 37, 22, 16, 9]\n",
    "data3 = [238, 91, 38, 10, 1, 2, 8, 62, 331, 291, 171, 133, 139, 166, 164, 162, 173, 222, 114, 183, 295, 318, 416, 379]\n",
    "data5 = [7, 1, 4, 5, 19, 69, 111, 102, 169, 168, 187, 152, 119, 183, 134, 268, 183, 173, 170, 169, 127, 120, 33, 9]\n",
    "data6 = [1, 1, 1, 1, 1, 1, 1, 1, 1, 1, 1, 1, 1, 1, 1, 1, 1, 1, 1, 1, 1, 1 ,1 ]\n",
    "def shannon(data):\n",
    "    data = np.array(data)\n",
    "    total = np.sum(data)\n",
    "    data = data / total\n",
    "    h = 0\n",
    "    for p in data:\n",
    "        h = h + p * np.log2(p + 1e-10)\n",
    "    H = -h\n",
    "    return H\n",
    "\n",
    "print(shannon(data1), \n",
    "      shannon(data2), \n",
    "      shannon(data3), \n",
    "      shannon(data5),\n",
    "      shannon(data6))"
   ]
  },
  {
   "cell_type": "code",
   "execution_count": 17,
   "metadata": {},
   "outputs": [
    {
     "data": {
      "text/plain": [
       "0.0"
      ]
     },
     "execution_count": 17,
     "metadata": {},
     "output_type": "execute_result"
    }
   ],
   "source": [
    "1 * np.log2(1)"
   ]
  },
  {
   "cell_type": "code",
   "execution_count": 2,
   "metadata": {},
   "outputs": [
    {
     "name": "stdout",
     "output_type": "stream",
     "text": [
      "  USER_MD5 HOUR_GROUP  RATING_COUNT  COMMENT_COUNT\n",
      "0    user1       6-17             1              1\n",
      "1    user1       18-5             1              1\n",
      "2    user2       6-17             1              1\n",
      "3    user2       18-5             1              1\n"
     ]
    }
   ],
   "source": [
    "import pandas as pd\n",
    "\n",
    "# 假设你已经有了 df_all DataFrame\n",
    "# df_all 示例\n",
    "df_all = pd.DataFrame({\n",
    "    'USER_MD5': ['user1', 'user1', 'user2', 'user2'],\n",
    "    'HOUR': [7, 18, 5, 10],\n",
    "    'RATING_ID': [101, 102, 201, 202],\n",
    "    'COMMENT_ID': [301, 302, 401, 402]\n",
    "})\n",
    "\n",
    "# 初始化统计结果\n",
    "results = {}\n",
    "\n",
    "# 循环遍历数据\n",
    "for index, row in df_all.iterrows():\n",
    "    user = row['USER_MD5']\n",
    "    hour = row['HOUR']\n",
    "    \n",
    "    # 根据 HOUR 列的值决定范围\n",
    "    if 6 <= hour <= 17:\n",
    "        time_range = '6-17'\n",
    "    else:\n",
    "        time_range = '18-5'\n",
    "\n",
    "    # 更新结果\n",
    "    if user not in results:\n",
    "        results[user] = {'6-17': {'RATING_COUNT': 0, 'COMMENT_COUNT': 0},\n",
    "                         '18-5': {'RATING_COUNT': 0, 'COMMENT_COUNT': 0}}\n",
    "\n",
    "    results[user][time_range]['RATING_COUNT'] += 1\n",
    "    results[user][time_range]['COMMENT_COUNT'] += 1\n",
    "\n",
    "# 转换结果为 DataFrame\n",
    "result_df = pd.DataFrame.from_dict({(user, time_range): data\n",
    "                                     for user, time_data in results.items()\n",
    "                                     for time_range, data in time_data.items()},\n",
    "                                    orient='index').reset_index()\n",
    "\n",
    "result_df.columns = ['USER_MD5', 'HOUR_GROUP', 'RATING_COUNT', 'COMMENT_COUNT']\n",
    "\n",
    "print(result_df)"
   ]
  },
  {
   "cell_type": "code",
   "execution_count": 3,
   "metadata": {},
   "outputs": [
    {
     "name": "stdout",
     "output_type": "stream",
     "text": [
      "  USER_MD5  18-5  6-17\n",
      "0    user1  -0.2   0.3\n",
      "1    user2   0.1   0.5\n"
     ]
    }
   ],
   "source": [
    "import pandas as pd\n",
    "\n",
    "# 假设 df_result 是你的原始 DataFrame\n",
    "# 首先，我们确保数据格式正确\n",
    "df_result = pd.DataFrame({\n",
    "    'USER_MD5': ['user1', 'user1', 'user2', 'user2'],\n",
    "    'HOUR_GROUP': ['6-17', '18-5', '6-17', '18-5'],\n",
    "    'PERCENTAGE': [0.3, -0.2, 0.5, 0.1]\n",
    "})\n",
    "\n",
    "# 使用 pivot 方法重新设置 DataFrame\n",
    "df_pivot = df_result.pivot(index='USER_MD5', columns='HOUR_GROUP', values='PERCENTAGE').reset_index()\n",
    "\n",
    "# 重命名列\n",
    "df_pivot.columns.name = None  # 去掉列名\n",
    "df_pivot = df_pivot.rename(columns={'6-17': '6-17', '18-5': '18-5'})\n",
    "\n",
    "# 如果需要填充缺失值，可以选择填充为 0 或其它值\n",
    "df_pivot.fillna(0, inplace=True)\n",
    "\n",
    "print(df_pivot)\n"
   ]
  },
  {
   "cell_type": "code",
   "execution_count": 6,
   "metadata": {},
   "outputs": [
    {
     "data": {
      "text/html": [
       "<div>\n",
       "<style scoped>\n",
       "    .dataframe tbody tr th:only-of-type {\n",
       "        vertical-align: middle;\n",
       "    }\n",
       "\n",
       "    .dataframe tbody tr th {\n",
       "        vertical-align: top;\n",
       "    }\n",
       "\n",
       "    .dataframe thead th {\n",
       "        text-align: right;\n",
       "    }\n",
       "</style>\n",
       "<table border=\"1\" class=\"dataframe\">\n",
       "  <thead>\n",
       "    <tr style=\"text-align: right;\">\n",
       "      <th></th>\n",
       "      <th>ID</th>\n",
       "      <th>TIME</th>\n",
       "      <th>TIME_DAY</th>\n",
       "      <th>TIME_DAY_CN</th>\n",
       "    </tr>\n",
       "  </thead>\n",
       "  <tbody>\n",
       "    <tr>\n",
       "      <th>0</th>\n",
       "      <td>1</td>\n",
       "      <td>2025-05-22</td>\n",
       "      <td>Thursday</td>\n",
       "      <td>星期四</td>\n",
       "    </tr>\n",
       "    <tr>\n",
       "      <th>1</th>\n",
       "      <td>2</td>\n",
       "      <td>2025-04-25</td>\n",
       "      <td>Friday</td>\n",
       "      <td>星期五</td>\n",
       "    </tr>\n",
       "    <tr>\n",
       "      <th>2</th>\n",
       "      <td>3</td>\n",
       "      <td>2025-04-22</td>\n",
       "      <td>Tuesday</td>\n",
       "      <td>星期二</td>\n",
       "    </tr>\n",
       "    <tr>\n",
       "      <th>3</th>\n",
       "      <td>4</td>\n",
       "      <td>2025-05-01</td>\n",
       "      <td>Thursday</td>\n",
       "      <td>星期四</td>\n",
       "    </tr>\n",
       "    <tr>\n",
       "      <th>4</th>\n",
       "      <td>5</td>\n",
       "      <td>NaT</td>\n",
       "      <td>NaN</td>\n",
       "      <td>NaN</td>\n",
       "    </tr>\n",
       "  </tbody>\n",
       "</table>\n",
       "</div>"
      ],
      "text/plain": [
       "   ID       TIME  TIME_DAY TIME_DAY_CN\n",
       "0   1 2025-05-22  Thursday         星期四\n",
       "1   2 2025-04-25    Friday         星期五\n",
       "2   3 2025-04-22   Tuesday         星期二\n",
       "3   4 2025-05-01  Thursday         星期四\n",
       "4   5        NaT       NaN         NaN"
      ]
     },
     "execution_count": 6,
     "metadata": {},
     "output_type": "execute_result"
    }
   ],
   "source": [
    "import pandas as pd\n",
    "data = pd.DataFrame({\n",
    "    'ID': [1, 2, 3, 4, 5],\n",
    "    'TIME': ['2025-5-22', '2025-4-25', '2025-4-22', '2025-5-1', '']\n",
    "})\n",
    "data['TIME'] = pd.to_datetime(data['TIME'])\n",
    "data['TIME_DAY'] = data['TIME'].dt.day_name()\n",
    "# 创建一个映射字典\n",
    "day_mapping = {\n",
    "    'Monday': '星期一',\n",
    "    'Tuesday': '星期二',\n",
    "    'Wednesday': '星期三',\n",
    "    'Thursday': '星期四',\n",
    "    'Friday': '星期五',\n",
    "    'Saturday': '星期六',\n",
    "    'Sunday': '星期天'\n",
    "}\n",
    "data['TIME_DAY_CN'] = data['TIME_DAY'].map(day_mapping)\n",
    "data"
   ]
  },
  {
   "cell_type": "code",
   "execution_count": null,
   "metadata": {},
   "outputs": [],
   "source": [
    "{\n",
    "    'CONTENT': '泪流满面……太感人了 相信你所相信的 爱你所爱的！父爱的伟大。',\n",
    "    'RATING': '5.0',\n",
    "    'GENRES': '奇幻'\n",
    "},\n",
    "{\n",
    "    'CONTENT': '非常非常美丽的童话。 那些不被理解的故事让我很揪心。',\n",
    "    'RATING': '5.0',\n",
    "    'GENRES': '奇幻'\n",
    "},\n",
    "{\n",
    "    'CONTENT': '尴尬，一个白人都说中文，你个说普通话的黄皮肤非要中英双语',\n",
    "    'RATING': '1.0',\n",
    "    'GENRES': '科幻'\n",
    "},\n",
    "{\n",
    "    'CONTENT': '好看但这么高的分有点假了吧，如果和越狱比起来，还是越狱好看些！',\n",
    "    'RATING': '3.0',\n",
    "    'GENRES': '犯罪'\n",
    "}\n"
   ]
  }
 ],
 "metadata": {
  "kernelspec": {
   "display_name": "base",
   "language": "python",
   "name": "python3"
  },
  "language_info": {
   "codemirror_mode": {
    "name": "ipython",
    "version": 3
   },
   "file_extension": ".py",
   "mimetype": "text/x-python",
   "name": "python",
   "nbconvert_exporter": "python",
   "pygments_lexer": "ipython3",
   "version": "3.9.13"
  }
 },
 "nbformat": 4,
 "nbformat_minor": 2
}
