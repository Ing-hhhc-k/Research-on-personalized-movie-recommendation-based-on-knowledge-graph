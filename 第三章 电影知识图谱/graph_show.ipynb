{
 "cells": [
  {
   "cell_type": "markdown",
   "metadata": {},
   "source": [
    "# 示例"
   ]
  },
  {
   "cell_type": "code",
   "execution_count": 6,
   "metadata": {},
   "outputs": [],
   "source": [
    "from py2neo import Graph, Subgraph\n",
    "from py2neo import Node, Relationship, Path\n",
    "\n",
    "# 连接数据库\n",
    "graph = Graph('bolt://localhost:7687/', auth=('neo4j', 'jhc20021102'))\n",
    "\n",
    "graph.delete_all()"
   ]
  },
  {
   "cell_type": "code",
   "execution_count": 7,
   "metadata": {},
   "outputs": [
    {
     "name": "stdout",
     "output_type": "stream",
     "text": [
      "(_0:英雄 {name: '\\u5f20\\u65e0\\u5fcc'})\n"
     ]
    }
   ],
   "source": [
    "# 定义node\n",
    "node_1 = Node('英雄', name = '张无忌')\n",
    "node_2 = Node('英雄', name = '杨逍', 武力值 = '100')\n",
    "node_3 = Node('派别', name = '明教')\n",
    "\n",
    "# 存入图数据库\n",
    "graph.create(node_1)\n",
    "graph.create(node_2)\n",
    "graph.create(node_3)\n",
    "print(node_1)"
   ]
  },
  {
   "cell_type": "code",
   "execution_count": 8,
   "metadata": {},
   "outputs": [],
   "source": [
    "# 增加关系\n",
    "node_2_to_node_1 = Relationship(node_2, '教主', node_1)\n",
    "node_1_to_node_3 = Relationship(node_1, '统领', node_3)\n",
    "node_2_to_node_3 = Relationship(node_2, '师出', node_3)\n",
    "\n",
    "graph.create(node_2_to_node_1)\n",
    "graph.create(node_1_to_node_3)\n",
    "graph.create(node_2_to_node_3)"
   ]
  },
  {
   "cell_type": "markdown",
   "metadata": {},
   "source": [
    "# 第二章——知识图谱示例图"
   ]
  },
  {
   "cell_type": "code",
   "execution_count": 18,
   "metadata": {},
   "outputs": [],
   "source": [
    "from py2neo import Graph, Subgraph\n",
    "from py2neo import Node, Relationship, Path\n",
    "\n",
    "# 连接数据库\n",
    "graph = Graph('bolt://localhost:7687/', auth=('neo4j', 'jhc20021102'))\n",
    "\n",
    "graph.delete_all()\n",
    "\n",
    "# 定义node\n",
    "node_1 = Node('电影', name = '唐探1900')\n",
    "node_2 = Node('导演', name = '陈思诚')\n",
    "node_3 = Node('导演', name = '戴墨')\n",
    "node_4 = Node('演员', name = '王宝强')\n",
    "node_5 = Node('演员', name = '刘昊然')\n",
    "node_6 = Node('演员', name = '周润发')\n",
    "node_7 = Node('标签', name = '喜剧')\n",
    "node_8 = Node('标签', name = '动作')\n",
    "node_9 = Node('标签', name = '悬疑')\n",
    "node_10 = Node('电影', name = '解密')\n",
    "node_11 = Node('演员', name = '约翰·库萨克')\n",
    "node_12 = Node('标签', name = '剧情')\n",
    "node_13 = Node('标签', name = '历史')\n",
    "\n",
    "# 存入图数据库\n",
    "for i in range(13):\n",
    "    name = f\"node_{i+1}\"\n",
    "    node = globals()[name] # 使用 globals() 获取对应的变量值\n",
    "    graph.create(node)\n",
    "# graph.create(node_1)\n",
    "# graph.create(node_2)\n",
    "# graph.create(node_3)\n",
    "\n",
    "# 增加关系\n",
    "rsp1 = Relationship(node_2, '导演', node_1)\n",
    "rsp2 = Relationship(node_3, '导演', node_1)\n",
    "rsp3 = Relationship(node_4, '主演', node_1)\n",
    "rsp4 = Relationship(node_5, '主演', node_1)\n",
    "rsp5 = Relationship(node_6, '特别出演', node_1)\n",
    "rsp6 = Relationship(node_1, '类型', node_7)\n",
    "rsp7 = Relationship(node_1, '类型', node_8)\n",
    "rsp8 = Relationship(node_1, '类型', node_9)\n",
    "rsp9 = Relationship(node_2, '导演', node_10)\n",
    "rsp10 = Relationship(node_5, '主演', node_10)\n",
    "rsp11 = Relationship(node_11, '主演', node_10)\n",
    "rsp12 = Relationship(node_10, '类型', node_12)\n",
    "rsp13 = Relationship(node_10, '类型', node_13)\n",
    "\n",
    "for i in range(13):\n",
    "    name = f\"rsp{i+1}\"\n",
    "    rsp = globals()[name] # 使用 globals() 获取对应的变量值\n",
    "    graph.create(rsp)\n",
    "# graph.create(node_2_to_node_1)\n",
    "# graph.create(node_1_to_node_3)\n",
    "# graph.create(node_2_to_node_3)"
   ]
  },
  {
   "cell_type": "markdown",
   "metadata": {},
   "source": [
    "# 知识图谱构建测试"
   ]
  },
  {
   "cell_type": "code",
   "execution_count": 1,
   "metadata": {},
   "outputs": [
    {
     "name": "stderr",
     "output_type": "stream",
     "text": [
      "d:\\Anaconda_other\\lib\\site-packages\\pandas\\core\\computation\\expressions.py:21: UserWarning: Pandas requires version '2.8.4' or newer of 'numexpr' (version '2.8.3' currently installed).\n",
      "  from pandas.core.computation.check import NUMEXPR_INSTALLED\n",
      "d:\\Anaconda_other\\lib\\site-packages\\pandas\\core\\arrays\\masked.py:60: UserWarning: Pandas requires version '1.3.6' or newer of 'bottleneck' (version '1.3.5' currently installed).\n",
      "  from pandas.core import (\n"
     ]
    }
   ],
   "source": [
    "import pandas as pd\n",
    "from py2neo import Graph, Node, Relationship, Subgraph\n",
    "\n",
    "# 连接数据库\n",
    "graph = Graph('bolt://localhost:7687/', auth=('neo4j', 'jhc20021102'))\n",
    "\n",
    "graph.delete_all()"
   ]
  },
  {
   "cell_type": "code",
   "execution_count": 2,
   "metadata": {},
   "outputs": [
    {
     "data": {
      "text/html": [
       "<div>\n",
       "<style scoped>\n",
       "    .dataframe tbody tr th:only-of-type {\n",
       "        vertical-align: middle;\n",
       "    }\n",
       "\n",
       "    .dataframe tbody tr th {\n",
       "        vertical-align: top;\n",
       "    }\n",
       "\n",
       "    .dataframe thead th {\n",
       "        text-align: right;\n",
       "    }\n",
       "</style>\n",
       "<table border=\"1\" class=\"dataframe\">\n",
       "  <thead>\n",
       "    <tr style=\"text-align: right;\">\n",
       "      <th></th>\n",
       "      <th>name</th>\n",
       "      <th>language</th>\n",
       "      <th>region</th>\n",
       "      <th>type</th>\n",
       "      <th>relationship</th>\n",
       "      <th>name.1</th>\n",
       "      <th>sex</th>\n",
       "      <th>type.1</th>\n",
       "    </tr>\n",
       "  </thead>\n",
       "  <tbody>\n",
       "    <tr>\n",
       "      <th>0</th>\n",
       "      <td>哪吒</td>\n",
       "      <td>国语</td>\n",
       "      <td>动画</td>\n",
       "      <td>电影</td>\n",
       "      <td>出演</td>\n",
       "      <td>饺子</td>\n",
       "      <td>男</td>\n",
       "      <td>演员</td>\n",
       "    </tr>\n",
       "    <tr>\n",
       "      <th>1</th>\n",
       "      <td>哪吒</td>\n",
       "      <td>国语</td>\n",
       "      <td>动画</td>\n",
       "      <td>电影</td>\n",
       "      <td>出演</td>\n",
       "      <td>傻子</td>\n",
       "      <td>女</td>\n",
       "      <td>演员</td>\n",
       "    </tr>\n",
       "    <tr>\n",
       "      <th>2</th>\n",
       "      <td>二郎神</td>\n",
       "      <td>国语</td>\n",
       "      <td>悬疑</td>\n",
       "      <td>电影</td>\n",
       "      <td>出演</td>\n",
       "      <td>傻子</td>\n",
       "      <td>女</td>\n",
       "      <td>演员</td>\n",
       "    </tr>\n",
       "    <tr>\n",
       "      <th>3</th>\n",
       "      <td>哮天犬</td>\n",
       "      <td>国语</td>\n",
       "      <td>动画</td>\n",
       "      <td>电影</td>\n",
       "      <td>出演</td>\n",
       "      <td>饺子</td>\n",
       "      <td>男</td>\n",
       "      <td>演员</td>\n",
       "    </tr>\n",
       "  </tbody>\n",
       "</table>\n",
       "</div>"
      ],
      "text/plain": [
       "  name language region type relationship name.1 sex type.1\n",
       "0   哪吒       国语     动画   电影           出演     饺子   男     演员\n",
       "1   哪吒       国语     动画   电影           出演     傻子   女     演员\n",
       "2  二郎神       国语     悬疑   电影           出演     傻子   女     演员\n",
       "3  哮天犬       国语     动画   电影           出演     饺子   男     演员"
      ]
     },
     "execution_count": 2,
     "metadata": {},
     "output_type": "execute_result"
    }
   ],
   "source": [
    "# 读取测试数据\n",
    "df = pd.read_excel(\"E:/Undergraduate-Program/毕业论文/数据集/test/test1.xlsx\")\n",
    "df"
   ]
  },
  {
   "cell_type": "code",
   "execution_count": 3,
   "metadata": {},
   "outputs": [
    {
     "data": {
      "text/plain": [
       "'国语'"
      ]
     },
     "execution_count": 3,
     "metadata": {},
     "output_type": "execute_result"
    }
   ],
   "source": [
    "df.values[0][1]\n",
    "#\tname\tlanguage\tregion\ttype\n",
    "# df['name.1'][0]"
   ]
  },
  {
   "cell_type": "code",
   "execution_count": 4,
   "metadata": {},
   "outputs": [
    {
     "data": {
      "text/html": [
       "<div>\n",
       "<style scoped>\n",
       "    .dataframe tbody tr th:only-of-type {\n",
       "        vertical-align: middle;\n",
       "    }\n",
       "\n",
       "    .dataframe tbody tr th {\n",
       "        vertical-align: top;\n",
       "    }\n",
       "\n",
       "    .dataframe thead th {\n",
       "        text-align: right;\n",
       "    }\n",
       "</style>\n",
       "<table border=\"1\" class=\"dataframe\">\n",
       "  <thead>\n",
       "    <tr style=\"text-align: right;\">\n",
       "      <th></th>\n",
       "      <th>name</th>\n",
       "      <th>language</th>\n",
       "      <th>region</th>\n",
       "      <th>type</th>\n",
       "    </tr>\n",
       "  </thead>\n",
       "  <tbody>\n",
       "    <tr>\n",
       "      <th>0</th>\n",
       "      <td>哪吒</td>\n",
       "      <td>国语</td>\n",
       "      <td>动画</td>\n",
       "      <td>电影</td>\n",
       "    </tr>\n",
       "    <tr>\n",
       "      <th>1</th>\n",
       "      <td>二郎神</td>\n",
       "      <td>国语</td>\n",
       "      <td>悬疑</td>\n",
       "      <td>电影</td>\n",
       "    </tr>\n",
       "    <tr>\n",
       "      <th>2</th>\n",
       "      <td>哮天犬</td>\n",
       "      <td>国语</td>\n",
       "      <td>动画</td>\n",
       "      <td>电影</td>\n",
       "    </tr>\n",
       "  </tbody>\n",
       "</table>\n",
       "</div>"
      ],
      "text/plain": [
       "  name language region type\n",
       "0   哪吒       国语     动画   电影\n",
       "1  二郎神       国语     悬疑   电影\n",
       "2  哮天犬       国语     动画   电影"
      ]
     },
     "execution_count": 4,
     "metadata": {},
     "output_type": "execute_result"
    }
   ],
   "source": [
    "# 数据处理\n",
    "df_movie = df[['name', 'language', 'region', 'type']]\n",
    "df_actor = df[['name.1','sex','type.1']]\n",
    "df_m = df_movie.drop_duplicates() # 去重\n",
    "df_m.reset_index(drop=True, inplace=True) # 重新排序索引（防止建立节点时出错）\n",
    "df_a = df_actor.drop_duplicates()\n",
    "df_a.reset_index(drop=True, inplace=True)\n",
    "df_m"
   ]
  },
  {
   "cell_type": "code",
   "execution_count": 7,
   "metadata": {},
   "outputs": [],
   "source": [
    "graph.delete_all()\n",
    "# 建立节点\n",
    "node_list = []\n",
    "for i in range(len(df_m['name'])):\n",
    "    node = Node(df_m.type[i], name = df_m.name[i], language = df_m.language[i],region = df_m.region[i])\n",
    "    if node not in node_list:\n",
    "        node_list.append(node)\n",
    "\n",
    "for i in range(len(df_a['name.1'])):\n",
    "    node = Node(df_a['type.1'][i], name = df_a['name.1'][i], sex = df_a.sex[i])\n",
    "    if node not in node_list:\n",
    "        node_list.append(node)\n",
    "nodes = Subgraph(node_list)\n",
    "graph.create(nodes)"
   ]
  },
  {
   "cell_type": "code",
   "execution_count": 6,
   "metadata": {},
   "outputs": [
    {
     "name": "stdout",
     "output_type": "stream",
     "text": [
      "1\n",
      "2\n",
      "3\n",
      "4\n"
     ]
    }
   ],
   "source": [
    "# 创建关系\n",
    "re_list = []\n",
    "count = 0\n",
    "for i in df.values:\n",
    "    count += 1\n",
    "    print(count)\n",
    "    c= graph.nodes.match(i[3],name=i[0]).first()\n",
    "    d = graph.nodes.match(i[7],name=i[5]).first()\n",
    "    rel_a=Relationship(d,i[4],c)\n",
    "    re_list.append(rel_a)\n",
    "    \n",
    "#导入关系\n",
    "nodes=Subgraph(relationships=re_list)\n",
    "graph.create(nodes)"
   ]
  }
 ],
 "metadata": {
  "kernelspec": {
   "display_name": "base",
   "language": "python",
   "name": "python3"
  },
  "language_info": {
   "codemirror_mode": {
    "name": "ipython",
    "version": 3
   },
   "file_extension": ".py",
   "mimetype": "text/x-python",
   "name": "python",
   "nbconvert_exporter": "python",
   "pygments_lexer": "ipython3",
   "version": "3.9.13"
  }
 },
 "nbformat": 4,
 "nbformat_minor": 2
}
