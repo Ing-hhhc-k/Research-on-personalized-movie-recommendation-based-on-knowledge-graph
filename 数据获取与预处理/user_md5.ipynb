{
 "cells": [
  {
   "cell_type": "code",
   "execution_count": 5,
   "metadata": {},
   "outputs": [
    {
     "name": "stdout",
     "output_type": "stream",
     "text": [
      "MD5加密前为 ：123456\n",
      "MD5加密后为 ：e10adc3949ba59abbe56e057f20f883e\n"
     ]
    }
   ],
   "source": [
    "import hashlib\n",
    "# 待加密信息\n",
    "str = '123456'\n",
    "# 创建md5对象\n",
    "hl = hashlib.md5()\n",
    "#更新hash对象的值，如果不使用update方法也可以直接md5构造函数内填写\n",
    "#md5_obj=hashlib.md5(\"123456\".encode(\"utf-8\")) 效果一样\n",
    "hl.update(str.encode(\"utf-8\"))\n",
    "print('MD5加密前为 ：' + str)\n",
    "print('MD5加密后为 ：' + hl.hexdigest())"
   ]
  },
  {
   "cell_type": "code",
   "execution_count": 8,
   "metadata": {},
   "outputs": [
    {
     "data": {
      "text/html": [
       "<div>\n",
       "<style scoped>\n",
       "    .dataframe tbody tr th:only-of-type {\n",
       "        vertical-align: middle;\n",
       "    }\n",
       "\n",
       "    .dataframe tbody tr th {\n",
       "        vertical-align: top;\n",
       "    }\n",
       "\n",
       "    .dataframe thead th {\n",
       "        text-align: right;\n",
       "    }\n",
       "</style>\n",
       "<table border=\"1\" class=\"dataframe\">\n",
       "  <thead>\n",
       "    <tr style=\"text-align: right;\">\n",
       "      <th></th>\n",
       "      <th>USER_MD5</th>\n",
       "      <th>USER_NICKNAME</th>\n",
       "    </tr>\n",
       "  </thead>\n",
       "  <tbody>\n",
       "    <tr>\n",
       "      <th>0</th>\n",
       "      <td>0ab7e3efacd56983f16503572d2b9915</td>\n",
       "      <td>恋丶你灬</td>\n",
       "    </tr>\n",
       "    <tr>\n",
       "      <th>1</th>\n",
       "      <td>84dfd3f91dd85ea105bc74a4f0d7a067</td>\n",
       "      <td>小学生的爹</td>\n",
       "    </tr>\n",
       "    <tr>\n",
       "      <th>2</th>\n",
       "      <td>c9a47fd59b55967ceac07cac6d5f270c</td>\n",
       "      <td>eatshit</td>\n",
       "    </tr>\n",
       "    <tr>\n",
       "      <th>3</th>\n",
       "      <td>35d3d5a52a7515c2ca6bb4d8e965149b</td>\n",
       "      <td>密斯sini</td>\n",
       "    </tr>\n",
       "    <tr>\n",
       "      <th>4</th>\n",
       "      <td>54bfe88b57d8a3caea2637e62d182cf7</td>\n",
       "      <td>Tiana</td>\n",
       "    </tr>\n",
       "    <tr>\n",
       "      <th>...</th>\n",
       "      <td>...</td>\n",
       "      <td>...</td>\n",
       "    </tr>\n",
       "    <tr>\n",
       "      <th>639120</th>\n",
       "      <td>2867c904d819eb5ad254e16f4258fa88</td>\n",
       "      <td>山下ちすぎ</td>\n",
       "    </tr>\n",
       "    <tr>\n",
       "      <th>639121</th>\n",
       "      <td>3cbf41681af9de591993d0152c26f4ca</td>\n",
       "      <td>游·行··</td>\n",
       "    </tr>\n",
       "    <tr>\n",
       "      <th>639122</th>\n",
       "      <td>6f870866b8c7b2b04456d8865e2bea7b</td>\n",
       "      <td>一生所爱</td>\n",
       "    </tr>\n",
       "    <tr>\n",
       "      <th>639123</th>\n",
       "      <td>b74e0942b239a219dfe67d158ef8a25e</td>\n",
       "      <td>路明非非非</td>\n",
       "    </tr>\n",
       "    <tr>\n",
       "      <th>639124</th>\n",
       "      <td>70463a4dcbf22e42350e594f1b55f2c9</td>\n",
       "      <td>何安well</td>\n",
       "    </tr>\n",
       "  </tbody>\n",
       "</table>\n",
       "<p>639125 rows × 2 columns</p>\n",
       "</div>"
      ],
      "text/plain": [
       "                                USER_MD5 USER_NICKNAME\n",
       "0       0ab7e3efacd56983f16503572d2b9915          恋丶你灬\n",
       "1       84dfd3f91dd85ea105bc74a4f0d7a067         小学生的爹\n",
       "2       c9a47fd59b55967ceac07cac6d5f270c       eatshit\n",
       "3       35d3d5a52a7515c2ca6bb4d8e965149b        密斯sini\n",
       "4       54bfe88b57d8a3caea2637e62d182cf7         Tiana\n",
       "...                                  ...           ...\n",
       "639120  2867c904d819eb5ad254e16f4258fa88         山下ちすぎ\n",
       "639121  3cbf41681af9de591993d0152c26f4ca         游·行··\n",
       "639122  6f870866b8c7b2b04456d8865e2bea7b          一生所爱\n",
       "639123  b74e0942b239a219dfe67d158ef8a25e         路明非非非\n",
       "639124  70463a4dcbf22e42350e594f1b55f2c9        何安well\n",
       "\n",
       "[639125 rows x 2 columns]"
      ]
     },
     "execution_count": 8,
     "metadata": {},
     "output_type": "execute_result"
    }
   ],
   "source": [
    "import pandas as pd\n",
    "\n",
    "# 遍历user表的id号\n",
    "df_id = pd.read_csv(\"../../数据集/豆瓣电影数据集/豆瓣电影数据集/users.csv\", encoding_errors='replace')\n",
    "df_id"
   ]
  }
 ],
 "metadata": {
  "kernelspec": {
   "display_name": "base",
   "language": "python",
   "name": "python3"
  },
  "language_info": {
   "codemirror_mode": {
    "name": "ipython",
    "version": 3
   },
   "file_extension": ".py",
   "mimetype": "text/x-python",
   "name": "python",
   "nbconvert_exporter": "python",
   "pygments_lexer": "ipython3",
   "version": "3.9.13"
  }
 },
 "nbformat": 4,
 "nbformat_minor": 2
}
